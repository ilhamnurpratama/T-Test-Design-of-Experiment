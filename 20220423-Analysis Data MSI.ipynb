{
 "cells": [
  {
   "cell_type": "markdown",
   "id": "421569be",
   "metadata": {},
   "source": [
    "# Python Script T-test MSI\n",
    "## Case Study Strategic Comparison \n",
    "\n",
    "### Hipotesis\n",
    "- **H0** = Tidak terdapat perbedaan signifikan antara perusahaan yang mengimplementasikan strategic formulation secara tepat dengan *revenue* dari perusahaan.\n",
    "- **H1** = Terdapat perbedaan signifikan antara perusahaan yang mengimplementasikan strategic formulation secara tepat dengan *revenue* dari perusahaan.\n",
    "\n",
    "### Note yang harus di penuhi sebelum analisis data :\n",
    "- Sample Saling Independent\n",
    "- Terdistribusi Normal\n",
    "- Memiliki varians yang sama\n",
    "\n",
    "### Level of Error\n",
    "$$\\alpha: 0.05$$ "
   ]
  },
  {
   "cell_type": "code",
   "execution_count": 101,
   "id": "059392ed",
   "metadata": {},
   "outputs": [],
   "source": [
    "# Library Import\n",
    "\n",
    "import pandas as pd\n",
    "import numpy as np\n",
    "import scipy as sp\n",
    "import pingouin as pg\n",
    "import seaborn as sns"
   ]
  },
  {
   "cell_type": "code",
   "execution_count": 85,
   "id": "75403617",
   "metadata": {},
   "outputs": [
    {
     "data": {
      "text/html": [
       "<div>\n",
       "<style scoped>\n",
       "    .dataframe tbody tr th:only-of-type {\n",
       "        vertical-align: middle;\n",
       "    }\n",
       "\n",
       "    .dataframe tbody tr th {\n",
       "        vertical-align: top;\n",
       "    }\n",
       "\n",
       "    .dataframe thead th {\n",
       "        text-align: right;\n",
       "    }\n",
       "</style>\n",
       "<table border=\"1\" class=\"dataframe\">\n",
       "  <thead>\n",
       "    <tr style=\"text-align: right;\">\n",
       "      <th></th>\n",
       "      <th>Company</th>\n",
       "      <th>Revenue</th>\n",
       "      <th>Year</th>\n",
       "      <th>Quarter</th>\n",
       "    </tr>\n",
       "  </thead>\n",
       "  <tbody>\n",
       "    <tr>\n",
       "      <th>0</th>\n",
       "      <td>XL</td>\n",
       "      <td>5.974</td>\n",
       "      <td>2019</td>\n",
       "      <td>Q1</td>\n",
       "    </tr>\n",
       "    <tr>\n",
       "      <th>1</th>\n",
       "      <td>XL</td>\n",
       "      <td>6.295</td>\n",
       "      <td>2019</td>\n",
       "      <td>Q2</td>\n",
       "    </tr>\n",
       "    <tr>\n",
       "      <th>2</th>\n",
       "      <td>XL</td>\n",
       "      <td>6.466</td>\n",
       "      <td>2019</td>\n",
       "      <td>Q3</td>\n",
       "    </tr>\n",
       "    <tr>\n",
       "      <th>3</th>\n",
       "      <td>XL</td>\n",
       "      <td>6.415</td>\n",
       "      <td>2019</td>\n",
       "      <td>Q4</td>\n",
       "    </tr>\n",
       "    <tr>\n",
       "      <th>4</th>\n",
       "      <td>XL</td>\n",
       "      <td>6.500</td>\n",
       "      <td>2020</td>\n",
       "      <td>Q1</td>\n",
       "    </tr>\n",
       "    <tr>\n",
       "      <th>5</th>\n",
       "      <td>XL</td>\n",
       "      <td>6.587</td>\n",
       "      <td>2020</td>\n",
       "      <td>Q2</td>\n",
       "    </tr>\n",
       "    <tr>\n",
       "      <th>6</th>\n",
       "      <td>XL</td>\n",
       "      <td>6.576</td>\n",
       "      <td>2020</td>\n",
       "      <td>Q3</td>\n",
       "    </tr>\n",
       "    <tr>\n",
       "      <th>7</th>\n",
       "      <td>XL</td>\n",
       "      <td>5.861</td>\n",
       "      <td>2020</td>\n",
       "      <td>Q4</td>\n",
       "    </tr>\n",
       "    <tr>\n",
       "      <th>8</th>\n",
       "      <td>XL</td>\n",
       "      <td>6.250</td>\n",
       "      <td>2021</td>\n",
       "      <td>Q1</td>\n",
       "    </tr>\n",
       "    <tr>\n",
       "      <th>9</th>\n",
       "      <td>XL</td>\n",
       "      <td>6.728</td>\n",
       "      <td>2021</td>\n",
       "      <td>Q2</td>\n",
       "    </tr>\n",
       "    <tr>\n",
       "      <th>10</th>\n",
       "      <td>XL</td>\n",
       "      <td>6.827</td>\n",
       "      <td>2021</td>\n",
       "      <td>Q3</td>\n",
       "    </tr>\n",
       "    <tr>\n",
       "      <th>11</th>\n",
       "      <td>XL</td>\n",
       "      <td>6.962</td>\n",
       "      <td>2021</td>\n",
       "      <td>Q4</td>\n",
       "    </tr>\n",
       "    <tr>\n",
       "      <th>12</th>\n",
       "      <td>Indosat</td>\n",
       "      <td>6.046</td>\n",
       "      <td>2019</td>\n",
       "      <td>Q1</td>\n",
       "    </tr>\n",
       "    <tr>\n",
       "      <th>13</th>\n",
       "      <td>Indosat</td>\n",
       "      <td>6.245</td>\n",
       "      <td>2019</td>\n",
       "      <td>Q2</td>\n",
       "    </tr>\n",
       "    <tr>\n",
       "      <th>14</th>\n",
       "      <td>Indosat</td>\n",
       "      <td>6.562</td>\n",
       "      <td>2019</td>\n",
       "      <td>Q3</td>\n",
       "    </tr>\n",
       "    <tr>\n",
       "      <th>15</th>\n",
       "      <td>Indosat</td>\n",
       "      <td>7.264</td>\n",
       "      <td>2019</td>\n",
       "      <td>Q4</td>\n",
       "    </tr>\n",
       "    <tr>\n",
       "      <th>16</th>\n",
       "      <td>Indosat</td>\n",
       "      <td>6.523</td>\n",
       "      <td>2020</td>\n",
       "      <td>Q1</td>\n",
       "    </tr>\n",
       "    <tr>\n",
       "      <th>17</th>\n",
       "      <td>Indosat</td>\n",
       "      <td>6.929</td>\n",
       "      <td>2020</td>\n",
       "      <td>Q2</td>\n",
       "    </tr>\n",
       "    <tr>\n",
       "      <th>18</th>\n",
       "      <td>Indosat</td>\n",
       "      <td>7.140</td>\n",
       "      <td>2020</td>\n",
       "      <td>Q3</td>\n",
       "    </tr>\n",
       "    <tr>\n",
       "      <th>19</th>\n",
       "      <td>Indosat</td>\n",
       "      <td>7.334</td>\n",
       "      <td>2020</td>\n",
       "      <td>Q4</td>\n",
       "    </tr>\n",
       "    <tr>\n",
       "      <th>20</th>\n",
       "      <td>Indosat</td>\n",
       "      <td>7.345</td>\n",
       "      <td>2021</td>\n",
       "      <td>Q1</td>\n",
       "    </tr>\n",
       "    <tr>\n",
       "      <th>21</th>\n",
       "      <td>Indosat</td>\n",
       "      <td>7.638</td>\n",
       "      <td>2021</td>\n",
       "      <td>Q2</td>\n",
       "    </tr>\n",
       "    <tr>\n",
       "      <th>22</th>\n",
       "      <td>Indosat</td>\n",
       "      <td>8.072</td>\n",
       "      <td>2021</td>\n",
       "      <td>Q3</td>\n",
       "    </tr>\n",
       "    <tr>\n",
       "      <th>23</th>\n",
       "      <td>Indosat</td>\n",
       "      <td>8.333</td>\n",
       "      <td>2021</td>\n",
       "      <td>Q4</td>\n",
       "    </tr>\n",
       "  </tbody>\n",
       "</table>\n",
       "</div>"
      ],
      "text/plain": [
       "    Company  Revenue  Year Quarter\n",
       "0        XL    5.974  2019      Q1\n",
       "1        XL    6.295  2019      Q2\n",
       "2        XL    6.466  2019      Q3\n",
       "3        XL    6.415  2019      Q4\n",
       "4        XL    6.500  2020      Q1\n",
       "5        XL    6.587  2020      Q2\n",
       "6        XL    6.576  2020      Q3\n",
       "7        XL    5.861  2020      Q4\n",
       "8        XL    6.250  2021      Q1\n",
       "9        XL    6.728  2021      Q2\n",
       "10       XL    6.827  2021      Q3\n",
       "11       XL    6.962  2021      Q4\n",
       "12  Indosat    6.046  2019      Q1\n",
       "13  Indosat    6.245  2019      Q2\n",
       "14  Indosat    6.562  2019      Q3\n",
       "15  Indosat    7.264  2019      Q4\n",
       "16  Indosat    6.523  2020      Q1\n",
       "17  Indosat    6.929  2020      Q2\n",
       "18  Indosat    7.140  2020      Q3\n",
       "19  Indosat    7.334  2020      Q4\n",
       "20  Indosat    7.345  2021      Q1\n",
       "21  Indosat    7.638  2021      Q2\n",
       "22  Indosat    8.072  2021      Q3\n",
       "23  Indosat    8.333  2021      Q4"
      ]
     },
     "execution_count": 85,
     "metadata": {},
     "output_type": "execute_result"
    }
   ],
   "source": [
    "# Import Data\n",
    "\n",
    "data = r'C:\\Users\\ilham\\MSI-Paper\\20220423-DataRevenueTelco.csv'\n",
    "df = pd.read_csv(data)\n",
    "\n",
    "df"
   ]
  },
  {
   "cell_type": "markdown",
   "id": "e463ab03",
   "metadata": {},
   "source": [
    "## Statistik Deskriptif"
   ]
  },
  {
   "cell_type": "code",
   "execution_count": 86,
   "id": "0b71342e",
   "metadata": {},
   "outputs": [
    {
     "data": {
      "text/html": [
       "<div>\n",
       "<style scoped>\n",
       "    .dataframe tbody tr th:only-of-type {\n",
       "        vertical-align: middle;\n",
       "    }\n",
       "\n",
       "    .dataframe tbody tr th {\n",
       "        vertical-align: top;\n",
       "    }\n",
       "\n",
       "    .dataframe thead th {\n",
       "        text-align: right;\n",
       "    }\n",
       "</style>\n",
       "<table border=\"1\" class=\"dataframe\">\n",
       "  <thead>\n",
       "    <tr style=\"text-align: right;\">\n",
       "      <th></th>\n",
       "      <th>count</th>\n",
       "      <th>mean</th>\n",
       "      <th>std</th>\n",
       "      <th>min</th>\n",
       "      <th>25%</th>\n",
       "      <th>50%</th>\n",
       "      <th>75%</th>\n",
       "      <th>max</th>\n",
       "    </tr>\n",
       "    <tr>\n",
       "      <th>Company</th>\n",
       "      <th></th>\n",
       "      <th></th>\n",
       "      <th></th>\n",
       "      <th></th>\n",
       "      <th></th>\n",
       "      <th></th>\n",
       "      <th></th>\n",
       "      <th></th>\n",
       "    </tr>\n",
       "  </thead>\n",
       "  <tbody>\n",
       "    <tr>\n",
       "      <th>Indosat</th>\n",
       "      <td>12.0</td>\n",
       "      <td>7.119250</td>\n",
       "      <td>0.699799</td>\n",
       "      <td>6.046</td>\n",
       "      <td>6.55225</td>\n",
       "      <td>7.202</td>\n",
       "      <td>7.41825</td>\n",
       "      <td>8.333</td>\n",
       "    </tr>\n",
       "    <tr>\n",
       "      <th>XL</th>\n",
       "      <td>12.0</td>\n",
       "      <td>6.453417</td>\n",
       "      <td>0.324397</td>\n",
       "      <td>5.861</td>\n",
       "      <td>6.28375</td>\n",
       "      <td>6.483</td>\n",
       "      <td>6.62225</td>\n",
       "      <td>6.962</td>\n",
       "    </tr>\n",
       "  </tbody>\n",
       "</table>\n",
       "</div>"
      ],
      "text/plain": [
       "         count      mean       std    min      25%    50%      75%    max\n",
       "Company                                                                  \n",
       "Indosat   12.0  7.119250  0.699799  6.046  6.55225  7.202  7.41825  8.333\n",
       "XL        12.0  6.453417  0.324397  5.861  6.28375  6.483  6.62225  6.962"
      ]
     },
     "execution_count": 86,
     "metadata": {},
     "output_type": "execute_result"
    }
   ],
   "source": [
    "# Kategorikan data yang ada\n",
    "\n",
    "df.dtypes\n",
    "xl = df.query('Company == \"XL\"')['Revenue']\n",
    "isat = df.query('Company == \"Indosat\"')['Revenue']\n",
    "df.groupby('Company').Revenue.describe()"
   ]
  },
  {
   "cell_type": "markdown",
   "id": "014547b1",
   "metadata": {},
   "source": [
    "- Dapat di lihat pada data di atas nilai mean dari XL dan Indosat menunjukan perbedaan yang sedikit di bandingkan dengan nilai median hal ini menunjukan bahwa data revenue dari XL bersih dan tidak ada outlier"
   ]
  },
  {
   "cell_type": "markdown",
   "id": "623ba21b",
   "metadata": {},
   "source": [
    "## Uji Normalitas Data\n",
    "\n",
    "Uji dilakukan dengan menguji *shapiro-wilks* apakah data tersebar secara normal dan dapat digunakan dalam t-test"
   ]
  },
  {
   "cell_type": "code",
   "execution_count": 92,
   "id": "bb4ef972",
   "metadata": {},
   "outputs": [
    {
     "name": "stdout",
     "output_type": "stream",
     "text": [
      "XL P-Value :  0.9321033954620361\n",
      "Indosat P-Value :  0.9178150296211243\n"
     ]
    }
   ],
   "source": [
    "print('XL P-Value : ',sp.stats.shapiro(xl).pvalue)\n",
    "print('Indosat P-Value : ',sp.stats.shapiro(isat).pvalue)"
   ]
  },
  {
   "cell_type": "code",
   "execution_count": 103,
   "id": "6eab9b0f",
   "metadata": {},
   "outputs": [
    {
     "data": {
      "text/plain": [
       "array([<AxesSubplot:title={'center':'Indosat'}>,\n",
       "       <AxesSubplot:title={'center':'XL'}>], dtype=object)"
      ]
     },
     "execution_count": 103,
     "metadata": {},
     "output_type": "execute_result"
    },
    {
     "data": {
      "image/png": "[encoded data removed]",
      "text/plain": [
       "<Figure size 432x288 with 2 Axes>"
      ]
     },
     "metadata": {
      "needs_background": "light"
     },
     "output_type": "display_data"
    }
   ],
   "source": [
    "# Plot histogram normalitas\n",
    "df.hist(by='Company',column='Revenue')"
   ]
  },
  {
   "cell_type": "code",
   "execution_count": 104,
   "id": "a5670824",
   "metadata": {},
   "outputs": [
    {
     "data": {
      "text/plain": [
       "<AxesSubplot:xlabel='Company', ylabel='Revenue'>"
      ]
     },
     "execution_count": 104,
     "metadata": {},
     "output_type": "execute_result"
    },
    {
     "data": {
      "image/png": "[encoded data removed]",
      "text/plain": [
       "<Figure size 432x288 with 1 Axes>"
      ]
     },
     "metadata": {
      "needs_background": "light"
     },
     "output_type": "display_data"
    }
   ],
   "source": [
    "# Plot data menggunakan box plot\n",
    "sns.boxplot(x='Company',y='Revenue', data=df)"
   ]
  },
  {
   "cell_type": "markdown",
   "id": "582c5958",
   "metadata": {},
   "source": [
    "- Dapat dilihat dari **p value** dan **plot histogram** menunjukan data terdistribusi secara normal."
   ]
  },
  {
   "cell_type": "markdown",
   "id": "d434bc9c",
   "metadata": {},
   "source": [
    "## Uji Homogenitas dari Variance\n",
    "\n",
    "- Uji homogenitas digunakan untuk memastikan nilai dari **Variance** dari dua kelompok bernilai sama.\n",
    "- Hal ini dapat di tunjukan dari **P-Value**, apabila P-Value > 0.05 maka Variance dari kedua kelompok dianggap sama."
   ]
  },
  {
   "cell_type": "code",
   "execution_count": 93,
   "id": "fbccccc2",
   "metadata": {
    "scrolled": true
   },
   "outputs": [
    {
     "name": "stdout",
     "output_type": "stream",
     "text": [
      "P-Value :  0.03431025506001013\n"
     ]
    }
   ],
   "source": [
    "print('P-Value : ',sp.stats.levene(xl,isat).pvalue)"
   ]
  },
  {
   "cell_type": "markdown",
   "id": "b2f15e93",
   "metadata": {},
   "source": [
    "- Dapat dilihat bahwa dari p-value data di dapatkan memiliki **varians** yang berbeda, sehingga analisis t-test yang akan dilakukan adalah **welch t-test**.\n"
   ]
  },
  {
   "cell_type": "markdown",
   "id": "04faeb95",
   "metadata": {},
   "source": [
    "## Uji Welch T-Test\n",
    "- Uji welch t-test melihat apakah terdapat perbedaan signifikan antara dua buah nilai dari sampel."
   ]
  },
  {
   "cell_type": "code",
   "execution_count": 99,
   "id": "a071c6b3",
   "metadata": {},
   "outputs": [
    {
     "name": "stdout",
     "output_type": "stream",
     "text": [
      "Statistics :  -2.990304072237936\n",
      "P Value :  0.006744412159193342\n"
     ]
    }
   ],
   "source": [
    "res = sp.stats.ttest_ind(xl, isat,equal_var=True)\n",
    "print(\"Statistics : \",res.statistic)\n",
    "print(\"P Value : \",res.pvalue)"
   ]
  },
  {
   "cell_type": "markdown",
   "id": "2243cb53",
   "metadata": {},
   "source": [
    "- Dapat dilihat berdasarkan nilai di atas **P Value**, bernilai < 0.05, hal ini menunjukan bahwa terdapat perbedaan **signifikan** pada perusahaaan yang mengimplementasikan strategic formulation secara tepat dengan revenue perusahaan, dibandingkan dengan perusahaan yang tidak mengimplementasikan secara tepat."
   ]
  }
 ],
 "metadata": {
  "kernelspec": {
   "display_name": "Python 3 (ipykernel)",
   "language": "python",
   "name": "python3"
  },
  "language_info": {
   "codemirror_mode": {
    "name": "ipython",
    "version": 3
   },
   "file_extension": ".py",
   "mimetype": "text/x-python",
   "name": "python",
   "nbconvert_exporter": "python",
   "pygments_lexer": "ipython3",
   "version": "3.9.7"
  }
 },
 "nbformat": 4,
 "nbformat_minor": 5
}
